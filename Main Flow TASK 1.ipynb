{
 "cells": [
  {
   "cell_type": "code",
   "execution_count": 1,
   "id": "4073e518-b249-495c-9267-907eb0539217",
   "metadata": {},
   "outputs": [
    {
     "name": "stdout",
     "output_type": "stream",
     "text": [
      "Original list: ['apple', 'banana', 'orange']\n",
      "List after adding grape: ['apple', 'banana', 'orange', 'grape']\n",
      "List after removing banana: ['apple', 'orange', 'grape']\n",
      "List after modifying orange to mango: ['apple', 'mango', 'grape']\n",
      "Length of the list: 3\n"
     ]
    }
   ],
   "source": [
    "# Create a list of fruits\n",
    "fruits = [\"apple\", \"banana\", \"orange\"]\n",
    "\n",
    "# Print the list\n",
    "print(\"Original list:\", fruits)\n",
    "\n",
    "# Add an element (grape) to the end of the list\n",
    "fruits.append(\"grape\")\n",
    "print(\"List after adding grape:\", fruits)\n",
    "\n",
    "# Remove an element (banana) by value\n",
    "fruits.remove(\"banana\")\n",
    "print(\"List after removing banana:\", fruits)\n",
    "\n",
    "# Modify an element (change orange to mango) by index\n",
    "fruits[1] = \"mango\"\n",
    "print(\"List after modifying orange to mango:\", fruits)\n",
    "\n",
    "# Get the length of the list\n",
    "list_length = len(fruits)\n",
    "print(\"Length of the list:\", list_length)\n"
   ]
  },
  {
   "cell_type": "code",
   "execution_count": 2,
   "id": "1409483f-214d-49c9-b9a3-ae9215c24ca1",
   "metadata": {},
   "outputs": [
    {
     "name": "stdout",
     "output_type": "stream",
     "text": [
      "Original dictionary: {'1': {'name': 'Alice', 'age': 20, 'course': 'Computer Science'}, '2': {'name': 'Bob', 'age': 22, 'course': 'Mathematics'}}\n",
      "Dictionary after adding Charlie: {'1': {'name': 'Alice', 'age': 20, 'course': 'Computer Science'}, '2': {'name': 'Bob', 'age': 22, 'course': 'Mathematics'}, '3': {'name': 'Charlie', 'age': 19, 'course': 'Physics'}}\n",
      "Dictionary after removing Bob: {'1': {'name': 'Alice', 'age': 20, 'course': 'Computer Science'}, '3': {'name': 'Charlie', 'age': 19, 'course': 'Physics'}}\n",
      "Dictionary after modifying Alice's course: {'1': {'name': 'Alice', 'age': 20, 'course': 'Engineering'}, '3': {'name': 'Charlie', 'age': 19, 'course': 'Physics'}}\n",
      "Student with ID 4 does not exist\n"
     ]
    }
   ],
   "source": [
    "# Create a dictionary to store information about students\n",
    "students = {\n",
    "    \"1\": {\"name\": \"Alice\", \"age\": 20, \"course\": \"Computer Science\"},\n",
    "    \"2\": {\"name\": \"Bob\", \"age\": 22, \"course\": \"Mathematics\"}\n",
    "}\n",
    "\n",
    "# Print the dictionary\n",
    "print(\"Original dictionary:\", students)\n",
    "\n",
    "# Add a new student (ID: 3)\n",
    "students[\"3\"] = {\"name\": \"Charlie\", \"age\": 19, \"course\": \"Physics\"}\n",
    "print(\"Dictionary after adding Charlie:\", students)\n",
    "\n",
    "# Remove a student (ID: 2) by key\n",
    "del students[\"2\"]\n",
    "print(\"Dictionary after removing Bob:\", students)\n",
    "\n",
    "# Modify a student's information (change Alice's course to Engineering)\n",
    "students[\"1\"][\"course\"] = \"Engineering\"\n",
    "print(\"Dictionary after modifying Alice's course:\", students)\n",
    "\n",
    "# Check if a key exists (check for ID: 4)\n",
    "if \"4\" in students:\n",
    "  print(\"Student with ID 4 exists\")\n",
    "else:\n",
    "  print(\"Student with ID 4 does not exist\")\n"
   ]
  },
  {
   "cell_type": "code",
   "execution_count": 3,
   "id": "ba4cc71b-709f-4092-9670-9b35eb5fca20",
   "metadata": {},
   "outputs": [
    {
     "name": "stdout",
     "output_type": "stream",
     "text": [
      "Original set: {'p', 'e', 'l', 'a'}\n",
      "Set after adding 'p': {'p', 'e', 'l', 'a'}\n",
      "Set after removing 'e': {'p', 'l', 'a'}\n",
      "Modified set (original cannot be modified): {'p', 'b', 'l', 'a'}\n",
      "'l' exists in the set\n"
     ]
    }
   ],
   "source": [
    "# Create a set of unique characters\n",
    "letters = set(\"apple\")\n",
    "\n",
    "# Print the set\n",
    "print(\"Original set:\", letters)\n",
    "\n",
    "# Adding elements (duplicate 'p' will be ignored)\n",
    "letters.add('p')\n",
    "letters.add('p')\n",
    "print(\"Set after adding 'p':\", letters)\n",
    "\n",
    "# Removing an element (if it exists)\n",
    "letters.remove('e')  # Throws an error if 'e' doesn't exist\n",
    "print(\"Set after removing 'e':\", letters)\n",
    "\n",
    "# Modifying elements (not possible in sets as elements are immutable)\n",
    "# Instead, we can create a new set with the desired changes\n",
    "\n",
    "modified_letters = letters.union({'b', 'a'})  # Add 'b' and 'a' (if not already present)\n",
    "print(\"Modified set (original cannot be modified):\", modified_letters)\n",
    "\n",
    "# Check if an element exists\n",
    "if 'l' in letters:\n",
    "  print(\"'l' exists in the set\")\n",
    "else:\n",
    "  print(\"'l' does not exist in the set\")\n"
   ]
  },
  {
   "cell_type": "code",
   "execution_count": null,
   "id": "384695e1-b7d0-49bc-8b59-75a8b1b57210",
   "metadata": {},
   "outputs": [],
   "source": []
  }
 ],
 "metadata": {
  "kernelspec": {
   "display_name": "Python 3 (ipykernel)",
   "language": "python",
   "name": "python3"
  },
  "language_info": {
   "codemirror_mode": {
    "name": "ipython",
    "version": 3
   },
   "file_extension": ".py",
   "mimetype": "text/x-python",
   "name": "python",
   "nbconvert_exporter": "python",
   "pygments_lexer": "ipython3",
   "version": "3.11.7"
  }
 },
 "nbformat": 4,
 "nbformat_minor": 5
}
